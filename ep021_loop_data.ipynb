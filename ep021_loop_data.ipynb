{
 "cells": [
  {
   "cell_type": "code",
   "execution_count": 1,
   "metadata": {},
   "outputs": [],
   "source": [
    "import pandas as pd"
   ]
  },
  {
   "cell_type": "code",
   "execution_count": 2,
   "metadata": {},
   "outputs": [],
   "source": [
    "df = pd.read_excel('data_result/dataupdate.xlsx','weather',index_col='Day')"
   ]
  },
  {
   "cell_type": "code",
   "execution_count": 4,
   "metadata": {},
   "outputs": [
    {
     "name": "stdout",
     "output_type": "stream",
     "text": [
      "อุณหภูมิ = 30 ส่งผลให้เกิด แดดร้อน\n",
      "อุณหภูมิ = 28 ส่งผลให้เกิด เมฆมาก\n",
      "อุณหภูมิ = 27 ส่งผลให้เกิด ฝนตก\n",
      "อุณหภูมิ = 19 ส่งผลให้เกิด แดดร้อน\n",
      "อุณหภูมิ = 20 ส่งผลให้เกิด เมฆมาก\n",
      "อุณหภูมิ = 25 ส่งผลให้เกิด ฝนตก\n",
      "อุณหภูมิ = 36 ส่งผลให้เกิด ฝนตก\n",
      "อุณหภูมิ = 28 ส่งผลให้เกิด ฝนตก\n",
      "อุณหภูมิ = 17 ส่งผลให้เกิด เมฆมาก\n",
      "อุณหภูมิ = 24 ส่งผลให้เกิด แดดร้อน\n",
      "อุณหภูมิ = 26 ส่งผลให้เกิด ฝนตก\n",
      "อุณหภูมิ = 27 ส่งผลให้เกิด แดดร้อน\n",
      "อุณหภูมิ = 30 ส่งผลให้เกิด แดดร้อน\n",
      "อุณหภูมิ = 31 ส่งผลให้เกิด เมฆมาก\n",
      "อุณหภูมิ = 28 ส่งผลให้เกิด แดดร้อน\n",
      "อุณหภูมิ = 27 ส่งผลให้เกิด แดดร้อน\n",
      "อุณหภูมิ = 20 ส่งผลให้เกิด ฝนตก\n",
      "อุณหภูมิ = 18 ส่งผลให้เกิด ฝนตก\n",
      "อุณหภูมิ = 25 ส่งผลให้เกิด แดดร้อน\n",
      "อุณหภูมิ = 28 ส่งผลให้เกิด เมฆมาก\n",
      "อุณหภูมิ = 25 ส่งผลให้เกิด เมฆมาก\n",
      "อุณหภูมิ = 38 ส่งผลให้เกิด เมฆมาก\n",
      "อุณหภูมิ = 34 ส่งผลให้เกิด ฝนตก\n",
      "อุณหภูมิ = 29 ส่งผลให้เกิด ฝนตก\n",
      "อุณหภูมิ = 34 ส่งผลให้เกิด แดดร้อน\n",
      "อุณหภูมิ = 25 ส่งผลให้เกิด ฝนตก\n",
      "อุณหภูมิ = 28 ส่งผลให้เกิด เมฆมาก\n",
      "อุณหภูมิ = 30 ส่งผลให้เกิด เมฆมาก\n",
      "อุณหภูมิ = 31 ส่งผลให้เกิด ฝนตก\n",
      "อุณหภูมิ = 35 ส่งผลให้เกิด ฝนตก\n"
     ]
    }
   ],
   "source": [
    "for idx, row in df.iterrows():\n",
    "    print(\"อุณหภูมิ = {} ส่งผลให้เกิด {}\".format(row.Temperature,row.Event))"
   ]
  }
 ],
 "metadata": {
  "kernelspec": {
   "display_name": "Python 3",
   "language": "python",
   "name": "python3"
  },
  "language_info": {
   "codemirror_mode": {
    "name": "ipython",
    "version": 3
   },
   "file_extension": ".py",
   "mimetype": "text/x-python",
   "name": "python",
   "nbconvert_exporter": "python",
   "pygments_lexer": "ipython3",
   "version": "3.9.13"
  },
  "orig_nbformat": 4
 },
 "nbformat": 4,
 "nbformat_minor": 2
}
