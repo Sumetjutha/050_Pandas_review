{
 "cells": [
  {
   "cell_type": "code",
   "execution_count": 1,
   "metadata": {},
   "outputs": [],
   "source": [
    "import pandas as pd"
   ]
  },
  {
   "cell_type": "code",
   "execution_count": 4,
   "metadata": {},
   "outputs": [],
   "source": [
    "df = pd.read_excel('data_result/dataupdate.xlsx','weather',index_col='Day')"
   ]
  },
  {
   "cell_type": "code",
   "execution_count": 5,
   "metadata": {},
   "outputs": [
    {
     "data": {
      "text/plain": [
       "Day\n",
       "2020-12-01    30\n",
       "2020-12-02    28\n",
       "2020-12-03    27\n",
       "2020-12-04    19\n",
       "2020-12-05    20\n",
       "2020-12-06    25\n",
       "2020-12-07    36\n",
       "2020-12-08    28\n",
       "2020-12-09    17\n",
       "2020-12-10    24\n",
       "2020-12-11    26\n",
       "2020-12-12    27\n",
       "2020-12-13    30\n",
       "2020-12-14    31\n",
       "2020-12-15    28\n",
       "2020-12-16    27\n",
       "2020-12-17    20\n",
       "2020-12-18    18\n",
       "2020-12-19    25\n",
       "2020-12-20    28\n",
       "2020-12-21    25\n",
       "2020-12-22    38\n",
       "2020-12-23    34\n",
       "2020-12-24    29\n",
       "2020-12-25    34\n",
       "2020-12-26    25\n",
       "2020-12-27    28\n",
       "2020-12-28    30\n",
       "2020-12-29    31\n",
       "2020-12-30    35\n",
       "Name: Temperature, dtype: int64"
      ]
     },
     "execution_count": 5,
     "metadata": {},
     "output_type": "execute_result"
    }
   ],
   "source": [
    "df.Temperature"
   ]
  },
  {
   "cell_type": "code",
   "execution_count": 8,
   "metadata": {},
   "outputs": [
    {
     "data": {
      "text/plain": [
       "Day\n",
       "2020-12-01    30\n",
       "2020-12-02    28\n",
       "2020-12-03    27\n",
       "2020-12-04    19\n",
       "2020-12-05    20\n",
       "Name: Temperature, dtype: int64"
      ]
     },
     "execution_count": 8,
     "metadata": {},
     "output_type": "execute_result"
    }
   ],
   "source": [
    "df.Temperature[0:5]"
   ]
  },
  {
   "cell_type": "code",
   "execution_count": null,
   "metadata": {},
   "outputs": [],
   "source": []
  }
 ],
 "metadata": {
  "kernelspec": {
   "display_name": "Python 3",
   "language": "python",
   "name": "python3"
  },
  "language_info": {
   "codemirror_mode": {
    "name": "ipython",
    "version": 3
   },
   "file_extension": ".py",
   "mimetype": "text/x-python",
   "name": "python",
   "nbconvert_exporter": "python",
   "pygments_lexer": "ipython3",
   "version": "3.9.13"
  },
  "orig_nbformat": 4
 },
 "nbformat": 4,
 "nbformat_minor": 2
}
