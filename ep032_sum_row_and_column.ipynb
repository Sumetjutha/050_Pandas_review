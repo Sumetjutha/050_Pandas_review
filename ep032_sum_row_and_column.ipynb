{
 "cells": [
  {
   "cell_type": "code",
   "execution_count": 1,
   "metadata": {},
   "outputs": [],
   "source": [
    "import pandas as pd"
   ]
  },
  {
   "cell_type": "code",
   "execution_count": 2,
   "metadata": {},
   "outputs": [],
   "source": [
    "df = pd.read_excel('data_result/Stock.xlsx',index_col='Name')"
   ]
  },
  {
   "cell_type": "code",
   "execution_count": 3,
   "metadata": {},
   "outputs": [
    {
     "data": {
      "text/html": [
       "<div>\n",
       "<style scoped>\n",
       "    .dataframe tbody tr th:only-of-type {\n",
       "        vertical-align: middle;\n",
       "    }\n",
       "\n",
       "    .dataframe tbody tr th {\n",
       "        vertical-align: top;\n",
       "    }\n",
       "\n",
       "    .dataframe thead th {\n",
       "        text-align: right;\n",
       "    }\n",
       "</style>\n",
       "<table border=\"1\" class=\"dataframe\">\n",
       "  <thead>\n",
       "    <tr style=\"text-align: right;\">\n",
       "      <th></th>\n",
       "      <th>Category</th>\n",
       "      <th>Price</th>\n",
       "      <th>Amount</th>\n",
       "    </tr>\n",
       "    <tr>\n",
       "      <th>Name</th>\n",
       "      <th></th>\n",
       "      <th></th>\n",
       "      <th></th>\n",
       "    </tr>\n",
       "  </thead>\n",
       "  <tbody>\n",
       "    <tr>\n",
       "      <th>เมาส์</th>\n",
       "      <td>อุปกรณ์คอมพิวเตอร์</td>\n",
       "      <td>900</td>\n",
       "      <td>10</td>\n",
       "    </tr>\n",
       "    <tr>\n",
       "      <th>ปากกา</th>\n",
       "      <td>อุปกรณ์การเรียน</td>\n",
       "      <td>200</td>\n",
       "      <td>5</td>\n",
       "    </tr>\n",
       "    <tr>\n",
       "      <th>โคมไฟ</th>\n",
       "      <td>เครื่องใช้ในบ้าน</td>\n",
       "      <td>1200</td>\n",
       "      <td>7</td>\n",
       "    </tr>\n",
       "    <tr>\n",
       "      <th>ไมโครโฟน</th>\n",
       "      <td>เครื่องใช้ไฟฟ้า</td>\n",
       "      <td>750</td>\n",
       "      <td>1</td>\n",
       "    </tr>\n",
       "    <tr>\n",
       "      <th>เครื่องซักผ้า</th>\n",
       "      <td>เครื่องใช้ไฟฟ้า</td>\n",
       "      <td>3500</td>\n",
       "      <td>0</td>\n",
       "    </tr>\n",
       "    <tr>\n",
       "      <th>เสื้อยืดคอกลม</th>\n",
       "      <td>เสื้อผ้า</td>\n",
       "      <td>500</td>\n",
       "      <td>2</td>\n",
       "    </tr>\n",
       "    <tr>\n",
       "      <th>กางเกงยีนต์</th>\n",
       "      <td>เสื้อผ้า</td>\n",
       "      <td>999</td>\n",
       "      <td>8</td>\n",
       "    </tr>\n",
       "    <tr>\n",
       "      <th>ตุ๊กตาหมีพูห์</th>\n",
       "      <td>ของเล่น</td>\n",
       "      <td>950</td>\n",
       "      <td>5</td>\n",
       "    </tr>\n",
       "    <tr>\n",
       "      <th>โซฟา</th>\n",
       "      <td>เฟอร์นิเจอร์</td>\n",
       "      <td>5000</td>\n",
       "      <td>5</td>\n",
       "    </tr>\n",
       "    <tr>\n",
       "      <th>จาน</th>\n",
       "      <td>เครื่องครัว</td>\n",
       "      <td>250</td>\n",
       "      <td>4</td>\n",
       "    </tr>\n",
       "    <tr>\n",
       "      <th>ทีวี</th>\n",
       "      <td>เครื่องใช้ไฟฟ้า</td>\n",
       "      <td>15000</td>\n",
       "      <td>7</td>\n",
       "    </tr>\n",
       "    <tr>\n",
       "      <th>ยางลบ</th>\n",
       "      <td>อุปกรณ์การเรียน</td>\n",
       "      <td>20</td>\n",
       "      <td>5</td>\n",
       "    </tr>\n",
       "    <tr>\n",
       "      <th>External HardDisk</th>\n",
       "      <td>อุปกรณ์คอมพิวเตอร์</td>\n",
       "      <td>2500</td>\n",
       "      <td>7</td>\n",
       "    </tr>\n",
       "    <tr>\n",
       "      <th>คีย์บอร์ด</th>\n",
       "      <td>อุปกรณ์คอมพิวเตอร์</td>\n",
       "      <td>850</td>\n",
       "      <td>5</td>\n",
       "    </tr>\n",
       "    <tr>\n",
       "      <th>รถบังคับ</th>\n",
       "      <td>ของเล่น</td>\n",
       "      <td>500</td>\n",
       "      <td>6</td>\n",
       "    </tr>\n",
       "  </tbody>\n",
       "</table>\n",
       "</div>"
      ],
      "text/plain": [
       "                             Category  Price  Amount\n",
       "Name                                                \n",
       "เมาส์              อุปกรณ์คอมพิวเตอร์    900      10\n",
       "ปากกา                 อุปกรณ์การเรียน    200       5\n",
       "โคมไฟ                เครื่องใช้ในบ้าน   1200       7\n",
       "ไมโครโฟน              เครื่องใช้ไฟฟ้า    750       1\n",
       "เครื่องซักผ้า         เครื่องใช้ไฟฟ้า   3500       0\n",
       "เสื้อยืดคอกลม                เสื้อผ้า    500       2\n",
       "กางเกงยีนต์                  เสื้อผ้า    999       8\n",
       "ตุ๊กตาหมีพูห์                 ของเล่น    950       5\n",
       "โซฟา                     เฟอร์นิเจอร์   5000       5\n",
       "จาน                       เครื่องครัว    250       4\n",
       "ทีวี                  เครื่องใช้ไฟฟ้า  15000       7\n",
       "ยางลบ                 อุปกรณ์การเรียน     20       5\n",
       "External HardDisk  อุปกรณ์คอมพิวเตอร์   2500       7\n",
       "คีย์บอร์ด          อุปกรณ์คอมพิวเตอร์    850       5\n",
       "รถบังคับ                      ของเล่น    500       6"
      ]
     },
     "execution_count": 3,
     "metadata": {},
     "output_type": "execute_result"
    }
   ],
   "source": [
    "df"
   ]
  },
  {
   "cell_type": "code",
   "execution_count": 5,
   "metadata": {},
   "outputs": [
    {
     "data": {
      "text/plain": [
       "Category    อุปกรณ์คอมพิวเตอร์อุปกรณ์การเรียนเครื่องใช้ในบ...\n",
       "Price                                                   33119\n",
       "Amount                                                     77\n",
       "dtype: object"
      ]
     },
     "execution_count": 5,
     "metadata": {},
     "output_type": "execute_result"
    }
   ],
   "source": [
    "df.sum(axis=0)"
   ]
  },
  {
   "cell_type": "code",
   "execution_count": 8,
   "metadata": {},
   "outputs": [],
   "source": [
    "df = df[['Amount','Price']]"
   ]
  },
  {
   "cell_type": "code",
   "execution_count": 9,
   "metadata": {},
   "outputs": [
    {
     "data": {
      "text/plain": [
       "Name\n",
       "เมาส์                  910\n",
       "ปากกา                  205\n",
       "โคมไฟ                 1207\n",
       "ไมโครโฟน               751\n",
       "เครื่องซักผ้า         3500\n",
       "เสื้อยืดคอกลม          502\n",
       "กางเกงยีนต์           1007\n",
       "ตุ๊กตาหมีพูห์          955\n",
       "โซฟา                  5005\n",
       "จาน                    254\n",
       "ทีวี                 15007\n",
       "ยางลบ                   25\n",
       "External HardDisk     2507\n",
       "คีย์บอร์ด              855\n",
       "รถบังคับ               506\n",
       "dtype: int64"
      ]
     },
     "execution_count": 9,
     "metadata": {},
     "output_type": "execute_result"
    }
   ],
   "source": [
    "df.sum(axis=1)"
   ]
  },
  {
   "cell_type": "code",
   "execution_count": 10,
   "metadata": {},
   "outputs": [],
   "source": [
    "df['total'] = df[\"Price\"] * df['Amount']"
   ]
  },
  {
   "cell_type": "code",
   "execution_count": 11,
   "metadata": {},
   "outputs": [
    {
     "data": {
      "text/html": [
       "<div>\n",
       "<style scoped>\n",
       "    .dataframe tbody tr th:only-of-type {\n",
       "        vertical-align: middle;\n",
       "    }\n",
       "\n",
       "    .dataframe tbody tr th {\n",
       "        vertical-align: top;\n",
       "    }\n",
       "\n",
       "    .dataframe thead th {\n",
       "        text-align: right;\n",
       "    }\n",
       "</style>\n",
       "<table border=\"1\" class=\"dataframe\">\n",
       "  <thead>\n",
       "    <tr style=\"text-align: right;\">\n",
       "      <th></th>\n",
       "      <th>Amount</th>\n",
       "      <th>Price</th>\n",
       "      <th>total</th>\n",
       "    </tr>\n",
       "    <tr>\n",
       "      <th>Name</th>\n",
       "      <th></th>\n",
       "      <th></th>\n",
       "      <th></th>\n",
       "    </tr>\n",
       "  </thead>\n",
       "  <tbody>\n",
       "    <tr>\n",
       "      <th>เมาส์</th>\n",
       "      <td>10</td>\n",
       "      <td>900</td>\n",
       "      <td>9000</td>\n",
       "    </tr>\n",
       "    <tr>\n",
       "      <th>ปากกา</th>\n",
       "      <td>5</td>\n",
       "      <td>200</td>\n",
       "      <td>1000</td>\n",
       "    </tr>\n",
       "    <tr>\n",
       "      <th>โคมไฟ</th>\n",
       "      <td>7</td>\n",
       "      <td>1200</td>\n",
       "      <td>8400</td>\n",
       "    </tr>\n",
       "    <tr>\n",
       "      <th>ไมโครโฟน</th>\n",
       "      <td>1</td>\n",
       "      <td>750</td>\n",
       "      <td>750</td>\n",
       "    </tr>\n",
       "    <tr>\n",
       "      <th>เครื่องซักผ้า</th>\n",
       "      <td>0</td>\n",
       "      <td>3500</td>\n",
       "      <td>0</td>\n",
       "    </tr>\n",
       "    <tr>\n",
       "      <th>เสื้อยืดคอกลม</th>\n",
       "      <td>2</td>\n",
       "      <td>500</td>\n",
       "      <td>1000</td>\n",
       "    </tr>\n",
       "    <tr>\n",
       "      <th>กางเกงยีนต์</th>\n",
       "      <td>8</td>\n",
       "      <td>999</td>\n",
       "      <td>7992</td>\n",
       "    </tr>\n",
       "    <tr>\n",
       "      <th>ตุ๊กตาหมีพูห์</th>\n",
       "      <td>5</td>\n",
       "      <td>950</td>\n",
       "      <td>4750</td>\n",
       "    </tr>\n",
       "    <tr>\n",
       "      <th>โซฟา</th>\n",
       "      <td>5</td>\n",
       "      <td>5000</td>\n",
       "      <td>25000</td>\n",
       "    </tr>\n",
       "    <tr>\n",
       "      <th>จาน</th>\n",
       "      <td>4</td>\n",
       "      <td>250</td>\n",
       "      <td>1000</td>\n",
       "    </tr>\n",
       "    <tr>\n",
       "      <th>ทีวี</th>\n",
       "      <td>7</td>\n",
       "      <td>15000</td>\n",
       "      <td>105000</td>\n",
       "    </tr>\n",
       "    <tr>\n",
       "      <th>ยางลบ</th>\n",
       "      <td>5</td>\n",
       "      <td>20</td>\n",
       "      <td>100</td>\n",
       "    </tr>\n",
       "    <tr>\n",
       "      <th>External HardDisk</th>\n",
       "      <td>7</td>\n",
       "      <td>2500</td>\n",
       "      <td>17500</td>\n",
       "    </tr>\n",
       "    <tr>\n",
       "      <th>คีย์บอร์ด</th>\n",
       "      <td>5</td>\n",
       "      <td>850</td>\n",
       "      <td>4250</td>\n",
       "    </tr>\n",
       "    <tr>\n",
       "      <th>รถบังคับ</th>\n",
       "      <td>6</td>\n",
       "      <td>500</td>\n",
       "      <td>3000</td>\n",
       "    </tr>\n",
       "  </tbody>\n",
       "</table>\n",
       "</div>"
      ],
      "text/plain": [
       "                   Amount  Price   total\n",
       "Name                                    \n",
       "เมาส์                  10    900    9000\n",
       "ปากกา                   5    200    1000\n",
       "โคมไฟ                   7   1200    8400\n",
       "ไมโครโฟน                1    750     750\n",
       "เครื่องซักผ้า           0   3500       0\n",
       "เสื้อยืดคอกลม           2    500    1000\n",
       "กางเกงยีนต์             8    999    7992\n",
       "ตุ๊กตาหมีพูห์           5    950    4750\n",
       "โซฟา                    5   5000   25000\n",
       "จาน                     4    250    1000\n",
       "ทีวี                    7  15000  105000\n",
       "ยางลบ                   5     20     100\n",
       "External HardDisk       7   2500   17500\n",
       "คีย์บอร์ด               5    850    4250\n",
       "รถบังคับ                6    500    3000"
      ]
     },
     "execution_count": 11,
     "metadata": {},
     "output_type": "execute_result"
    }
   ],
   "source": [
    "df"
   ]
  },
  {
   "cell_type": "code",
   "execution_count": 12,
   "metadata": {},
   "outputs": [
    {
     "data": {
      "text/plain": [
       "Amount        77\n",
       "Price      33119\n",
       "total     188742\n",
       "dtype: int64"
      ]
     },
     "execution_count": 12,
     "metadata": {},
     "output_type": "execute_result"
    }
   ],
   "source": [
    "df.sum(axis=0)"
   ]
  }
 ],
 "metadata": {
  "kernelspec": {
   "display_name": "Python 3",
   "language": "python",
   "name": "python3"
  },
  "language_info": {
   "codemirror_mode": {
    "name": "ipython",
    "version": 3
   },
   "file_extension": ".py",
   "mimetype": "text/x-python",
   "name": "python",
   "nbconvert_exporter": "python",
   "pygments_lexer": "ipython3",
   "version": "3.9.13"
  },
  "orig_nbformat": 4
 },
 "nbformat": 4,
 "nbformat_minor": 2
}
