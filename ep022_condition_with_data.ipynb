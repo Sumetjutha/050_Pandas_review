{
 "cells": [
  {
   "cell_type": "code",
   "execution_count": 1,
   "metadata": {},
   "outputs": [],
   "source": [
    "import pandas as pd"
   ]
  },
  {
   "cell_type": "code",
   "execution_count": 2,
   "metadata": {},
   "outputs": [],
   "source": [
    "df = pd.read_excel('data_result/dataupdate.xlsx','weather',index_col='Day')"
   ]
  },
  {
   "cell_type": "code",
   "execution_count": 3,
   "metadata": {},
   "outputs": [
    {
     "data": {
      "text/plain": [
       "Day\n",
       "2020-12-01    False\n",
       "2020-12-02    False\n",
       "2020-12-03    False\n",
       "2020-12-04     True\n",
       "2020-12-05     True\n",
       "2020-12-06    False\n",
       "2020-12-07    False\n",
       "2020-12-08    False\n",
       "2020-12-09     True\n",
       "2020-12-10    False\n",
       "2020-12-11    False\n",
       "2020-12-12    False\n",
       "2020-12-13    False\n",
       "2020-12-14    False\n",
       "2020-12-15    False\n",
       "2020-12-16    False\n",
       "2020-12-17     True\n",
       "2020-12-18     True\n",
       "2020-12-19    False\n",
       "2020-12-20    False\n",
       "2020-12-21    False\n",
       "2020-12-22    False\n",
       "2020-12-23    False\n",
       "2020-12-24    False\n",
       "2020-12-25    False\n",
       "2020-12-26    False\n",
       "2020-12-27    False\n",
       "2020-12-28    False\n",
       "2020-12-29    False\n",
       "2020-12-30    False\n",
       "Name: Temperature, dtype: bool"
      ]
     },
     "execution_count": 3,
     "metadata": {},
     "output_type": "execute_result"
    }
   ],
   "source": [
    "df.Temperature<=20"
   ]
  },
  {
   "cell_type": "code",
   "execution_count": 4,
   "metadata": {},
   "outputs": [
    {
     "data": {
      "text/html": [
       "<div>\n",
       "<style scoped>\n",
       "    .dataframe tbody tr th:only-of-type {\n",
       "        vertical-align: middle;\n",
       "    }\n",
       "\n",
       "    .dataframe tbody tr th {\n",
       "        vertical-align: top;\n",
       "    }\n",
       "\n",
       "    .dataframe thead th {\n",
       "        text-align: right;\n",
       "    }\n",
       "</style>\n",
       "<table border=\"1\" class=\"dataframe\">\n",
       "  <thead>\n",
       "    <tr style=\"text-align: right;\">\n",
       "      <th></th>\n",
       "      <th>Temperature</th>\n",
       "      <th>WindSpeed</th>\n",
       "      <th>Event</th>\n",
       "    </tr>\n",
       "    <tr>\n",
       "      <th>Day</th>\n",
       "      <th></th>\n",
       "      <th></th>\n",
       "      <th></th>\n",
       "    </tr>\n",
       "  </thead>\n",
       "  <tbody>\n",
       "    <tr>\n",
       "      <th>2020-12-04</th>\n",
       "      <td>19</td>\n",
       "      <td>3</td>\n",
       "      <td>แดดร้อน</td>\n",
       "    </tr>\n",
       "    <tr>\n",
       "      <th>2020-12-05</th>\n",
       "      <td>20</td>\n",
       "      <td>5</td>\n",
       "      <td>เมฆมาก</td>\n",
       "    </tr>\n",
       "    <tr>\n",
       "      <th>2020-12-09</th>\n",
       "      <td>17</td>\n",
       "      <td>5</td>\n",
       "      <td>เมฆมาก</td>\n",
       "    </tr>\n",
       "    <tr>\n",
       "      <th>2020-12-17</th>\n",
       "      <td>20</td>\n",
       "      <td>8</td>\n",
       "      <td>ฝนตก</td>\n",
       "    </tr>\n",
       "    <tr>\n",
       "      <th>2020-12-18</th>\n",
       "      <td>18</td>\n",
       "      <td>5</td>\n",
       "      <td>ฝนตก</td>\n",
       "    </tr>\n",
       "  </tbody>\n",
       "</table>\n",
       "</div>"
      ],
      "text/plain": [
       "            Temperature  WindSpeed    Event\n",
       "Day                                        \n",
       "2020-12-04           19          3  แดดร้อน\n",
       "2020-12-05           20          5   เมฆมาก\n",
       "2020-12-09           17          5   เมฆมาก\n",
       "2020-12-17           20          8     ฝนตก\n",
       "2020-12-18           18          5     ฝนตก"
      ]
     },
     "execution_count": 4,
     "metadata": {},
     "output_type": "execute_result"
    }
   ],
   "source": [
    "df[df.Temperature<=20]"
   ]
  }
 ],
 "metadata": {
  "kernelspec": {
   "display_name": "Python 3",
   "language": "python",
   "name": "python3"
  },
  "language_info": {
   "codemirror_mode": {
    "name": "ipython",
    "version": 3
   },
   "file_extension": ".py",
   "mimetype": "text/x-python",
   "name": "python",
   "nbconvert_exporter": "python",
   "pygments_lexer": "ipython3",
   "version": "3.9.13"
  },
  "orig_nbformat": 4
 },
 "nbformat": 4,
 "nbformat_minor": 2
}
